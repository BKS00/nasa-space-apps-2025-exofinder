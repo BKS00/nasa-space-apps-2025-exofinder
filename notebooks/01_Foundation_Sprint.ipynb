{
  "nbformat": 4,
  "nbformat_minor": 0,
  "metadata": {
    "colab": {
      "provenance": []
    },
    "kernelspec": {
      "name": "python3",
      "display_name": "Python 3"
    },
    "language_info": {
      "name": "python"
    }
  },
  "cells": [
    {
      "cell_type": "markdown",
      "source": [
        "# Cellule 1 : Monter Google Drive"
      ],
      "metadata": {
        "id": "J24ipQ59k93B"
      }
    },
    {
      "cell_type": "markdown",
      "source": [
        "# **ExoFinder : Protocole d'Initialisation et de Chargement des Données**\n",
        "\n",
        "**Auteur(s) :** Salomon Balemba, VAN TASI MUTUNDO\n",
        "**Version :** 1.0\n",
        "**Date :** 4 Octobre 2025\n",
        "\n",
        "---\n",
        "\n",
        "### **Objectif de ce Notebook**\n",
        "\n",
        "Ce document sert de rapport d'expérience pour la première phase de notre projet : la mise en place d'un pipeline de chargement de données robuste, sécurisé et scientifiquement validé pour le jeu de données des Objets d'Intérêt Kepler (KOI).\n",
        "\n",
        "Chaque étape est conçue pour être reproductible et justifiée, en suivant une méthodologie prudente pour éviter les biais courants en science des données."
      ],
      "metadata": {
        "id": "0kVuyvtwpdI_"
      }
    },
    {
      "cell_type": "markdown",
      "source": [
        "### **1. Connexion à l'Environnement de Données**\n",
        "\n",
        "**Procédure :** Nous montons notre Google Drive partagé.\n",
        "\n",
        "**Justification (`Pourquoi ?`) :**\n",
        "*   **Persistance :** Les données restent disponibles entre les sessions Colab.\n",
        "*   **Source Unique de Vérité :** Toute l'équipe accède au même fichier de données brutes, garantissant la cohérence de nos expériences.\n",
        "*   **Performance :** Évite les téléversements répétitifs et lents à chaque session."
      ],
      "metadata": {
        "id": "Rz4dCFN6iMo4"
      }
    },
    {
      "cell_type": "code",
      "execution_count": null,
      "metadata": {
        "colab": {
          "base_uri": "https://localhost:8080/"
        },
        "id": "umj0DhW40ZqS",
        "outputId": "05073c7f-b6fc-4794-f855-8432cca47f60"
      },
      "outputs": [
        {
          "output_type": "stream",
          "name": "stdout",
          "text": [
            "Mounted at /content/drive\n"
          ]
        }
      ],
      "source": [
        "from google.colab import drive\n",
        "drive.mount('/content/drive')\n",
        "\n",
        "# Après exécution, suivez le lien pour autoriser l'accès."
      ]
    },
    {
      "cell_type": "markdown",
      "source": [
        "### **2. Sélection des Caractéristiques et Protocole de Validation**\n",
        "\n",
        "**Procédure :** Avant de charger l'intégralité du fichier, nous inspectons son en-tête pour valider les noms exacts des colonnes. Ensuite, nous définissons une liste explicite de colonnes à charger.\n",
        "\n",
        "**Justification (`Pourquoi ?`) :**\n",
        "*   **Rigueur Scientifique :** Cette approche remplace l'hypothèse (deviner les noms de colonnes) par l'observation directe (lire les vrais noms). Elle prévient les erreurs `ValueError`.\n",
        "*   **Prévention de la Fuite de Données :** Nous sélectionnons *a priori* un sous-ensemble de caractéristiques basé sur une hypothèse physique, en excluant délibérément les colonnes qui pourraient contenir des \"réponses\" (ex: `koi_score`, les `koi_fpflag_*`).\n",
        "*   **Performance et Clarté :** Charger uniquement les colonnes nécessaires rend le processus plus rapide et le DataFrame plus facile à manipuler.\n",
        "\n",
        "---\n",
        "#### **Documentation du Sous-Ensemble de Données Sélectionné**\n",
        "\n",
        "Notre hypothèse de départ est que les caractéristiques les plus prédictives sont celles qui décrivent directement les propriétés physiques du transit et de l'étoile.\n",
        "\n",
        "*   **Identifiants :**\n",
        "    *   `kepoi_name`, `kepler_name`: Conservés pour l'identification et l'affichage des résultats. **Non utilisés pour l'entraînement.**\n",
        "*   **Cible :**\n",
        "    *   `koi_disposition`: La classification que nous cherchons à prédire (CONFIRMED, CANDIDATE, FALSE POSITIVE).\n",
        "*   **Caractéristiques (Features) :**\n",
        "    *   `koi_period`: Période orbitale. Fondamentale pour la détection d'un signal répétitif.\n",
        "    *   `koi_duration`: Durée du transit. Liée à la géométrie de l'orbite.\n",
        "    *   `koi_depth`: Profondeur du transit. Liée au ratio de taille planète/étoile.\n",
        "    *   `koi_impact`: Paramètre d'impact. Décrit la trajectoire du transit sur le disque stellaire.\n",
        "    *   `koi_srad`, `koi_slogg`, `koi_steff`: Rayon, gravité de surface et température de l'étoile. Essentiels pour contextualiser les paramètres du transit."
      ],
      "metadata": {
        "id": "SNP9H6Ejkemj"
      }
    },
    {
      "cell_type": "code",
      "source": [
        "import pandas as pd\n",
        "\n",
        "# --- CONFIGURATION ET VÉRIFICATION ---\n",
        "\n",
        "# Adaptez le chemin si nécessaire vers le fichier CSV complet sur votre Drive\n",
        "DATA_PATH = '/content/drive/MyDrive/NASA_Space_Apps_2025/koi_data_full.csv'\n",
        "\n",
        "# --- ÉTAPE DE VÉRIFICATION SCIENTIFIQUE ---\n",
        "# Nous chargeons uniquement la première ligne pour obtenir les noms de colonnes exacts.\n",
        "try:\n",
        "    header_df = pd.read_csv(DATA_PATH, comment='#', nrows=1)\n",
        "    print(\"VÉRIFICATION RÉUSSIE. Les noms de colonnes exacts trouvés dans le fichier sont :\")\n",
        "    actual_columns = header_df.columns.tolist()\n",
        "    print(actual_columns)\n",
        "except FileNotFoundError:\n",
        "    print(f\"ERREUR : Le fichier n'a pas été trouvé à l'emplacement : {DATA_PATH}\")\n",
        "    actual_columns = [] # Pour éviter une erreur plus loin\n",
        "\n",
        "print(\"\\n---\")\n",
        "\n",
        "\n",
        "# --- LA SOURCE DE VÉRITÉ : Sélection des Colonnes (VERSION CORRIGÉE) ---\n",
        "# Nous utilisons maintenant les noms de colonnes validés par notre inspection.\n",
        "\n",
        "# Colonnes d'identification (pour l'affichage)\n",
        "IDENTIFIERS_COLS = [\n",
        "    'kepoi_name',      # CORRIGÉ: C'était 'koi_name'\n",
        "    'kepler_name'\n",
        "]\n",
        "\n",
        "# Colonne cible (ce que nous voulons prédire)\n",
        "TARGET_COL = 'koi_disposition'\n",
        "\n",
        "# Caractéristiques (Features) pour l'entraînement du modèle\n",
        "FEATURES_COLS = [\n",
        "    'koi_period',\n",
        "    'koi_duration',\n",
        "    'koi_depth',\n",
        "    'koi_impact',\n",
        "    'koi_srad',\n",
        "    'koi_slogg',\n",
        "    'koi_steff'\n",
        "]\n",
        "\n",
        "# On combine toutes les colonnes dont on a besoin pour le chargement.\n",
        "COLS_TO_LOAD = IDENTIFIERS_COLS + [TARGET_COL] + FEATURES_COLS\n",
        "\n",
        "print(\"Configuration des colonnes à charger MISE À JOUR et VALIDÉE :\")\n",
        "print(COLS_TO_LOAD)"
      ],
      "metadata": {
        "colab": {
          "base_uri": "https://localhost:8080/"
        },
        "id": "0R_jBh2bkfcP",
        "outputId": "a9b3d7ed-ff29-4d12-d3d1-4a0aa6859a03"
      },
      "execution_count": null,
      "outputs": [
        {
          "output_type": "stream",
          "name": "stdout",
          "text": [
            "VÉRIFICATION RÉUSSIE. Les noms de colonnes exacts trouvés dans le fichier sont :\n",
            "['kepid', 'kepoi_name', 'kepler_name', 'koi_disposition', 'koi_pdisposition', 'koi_score', 'koi_fpflag_nt', 'koi_fpflag_ss', 'koi_fpflag_co', 'koi_fpflag_ec', 'koi_period', 'koi_period_err1', 'koi_period_err2', 'koi_time0bk', 'koi_time0bk_err1', 'koi_time0bk_err2', 'koi_impact', 'koi_impact_err1', 'koi_impact_err2', 'koi_duration', 'koi_duration_err1', 'koi_duration_err2', 'koi_depth', 'koi_depth_err1', 'koi_depth_err2', 'koi_prad', 'koi_prad_err1', 'koi_prad_err2', 'koi_teq', 'koi_teq_err1', 'koi_teq_err2', 'koi_insol', 'koi_insol_err1', 'koi_insol_err2', 'koi_model_snr', 'koi_tce_plnt_num', 'koi_tce_delivname', 'koi_steff', 'koi_steff_err1', 'koi_steff_err2', 'koi_slogg', 'koi_slogg_err1', 'koi_slogg_err2', 'koi_srad', 'koi_srad_err1', 'koi_srad_err2', 'ra', 'dec', 'koi_kepmag']\n",
            "\n",
            "---\n",
            "Configuration des colonnes à charger MISE À JOUR et VALIDÉE :\n",
            "['kepoi_name', 'kepler_name', 'koi_disposition', 'koi_period', 'koi_duration', 'koi_depth', 'koi_impact', 'koi_srad', 'koi_slogg', 'koi_steff']\n"
          ]
        }
      ]
    },
    {
      "cell_type": "markdown",
      "source": [
        "### **3. Chargement Sécurisé des Données**\n",
        "\n",
        "**Procédure :** Nous utilisons `pd.read_csv` avec le paramètre `usecols` en lui passant notre liste de colonnes validée.\n",
        "\n",
        "**Justification (`Pourquoi ?`) :**\n",
        "*   **Sécurité :** Garantit que seules les colonnes que nous avons explicitement approuvées sont chargées en mémoire, éliminant tout risque d'utiliser accidentellement une colonne non désirée.\n",
        "*   **Efficacité :** C'est la méthode la plus performante pour charger des sous-ensembles de gros fichiers CSV."
      ],
      "metadata": {
        "id": "Uc0WCgKvtlYU"
      }
    },
    {
      "cell_type": "code",
      "source": [
        "# On charge le CSV, mais UNIQUEMENT les colonnes qui nous intéressent.\n",
        "# C'est rapide, léger en mémoire, et maintenant, c'est sûr.\n",
        "try:\n",
        "    if actual_columns: # On ne tente de charger que si la vérification a fonctionné\n",
        "        df = pd.read_csv(DATA_PATH, comment='#', usecols=COLS_TO_LOAD)\n",
        "        print(\"\\nDonnées chargées avec succès !\")\n",
        "        print(f\"Shape du DataFrame : {df.shape}\")\n",
        "        df.info()\n",
        "except FileNotFoundError:\n",
        "    print(f\"ERREUR : Le fichier n'a pas été trouvé à l'emplacement : {DATA_PATH}\")\n",
        "    print(\"Veuillez vérifier le chemin et que votre Drive est bien monté.\")\n",
        "except ValueError as e:\n",
        "    print(f\"\\nERREUR DE VALEUR : {e}\")\n",
        "    print(\"Cela signifie probablement que vous n'avez pas encore mis à jour la liste des colonnes dans la cellule précédente avec les noms exacts.\")\n"
      ],
      "metadata": {
        "colab": {
          "base_uri": "https://localhost:8080/"
        },
        "id": "fSu3zM69lSSe",
        "outputId": "054bb78c-88e9-490f-e9f5-c1099c0b00dc"
      },
      "execution_count": null,
      "outputs": [
        {
          "output_type": "stream",
          "name": "stdout",
          "text": [
            "\n",
            "Données chargées avec succès !\n",
            "Shape du DataFrame : (9564, 10)\n",
            "<class 'pandas.core.frame.DataFrame'>\n",
            "RangeIndex: 9564 entries, 0 to 9563\n",
            "Data columns (total 10 columns):\n",
            " #   Column           Non-Null Count  Dtype  \n",
            "---  ------           --------------  -----  \n",
            " 0   kepoi_name       9564 non-null   object \n",
            " 1   kepler_name      2747 non-null   object \n",
            " 2   koi_disposition  9564 non-null   object \n",
            " 3   koi_period       9564 non-null   float64\n",
            " 4   koi_impact       9201 non-null   float64\n",
            " 5   koi_duration     9564 non-null   float64\n",
            " 6   koi_depth        9201 non-null   float64\n",
            " 7   koi_steff        9201 non-null   float64\n",
            " 8   koi_slogg        9201 non-null   float64\n",
            " 9   koi_srad         9201 non-null   float64\n",
            "dtypes: float64(7), object(3)\n",
            "memory usage: 747.3+ KB\n"
          ]
        }
      ]
    },
    {
      "cell_type": "code",
      "source": [],
      "metadata": {
        "id": "Eba53P69ttDr"
      },
      "execution_count": null,
      "outputs": []
    }
  ]
}